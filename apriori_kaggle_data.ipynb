{
 "cells": [
  {
   "cell_type": "code",
   "execution_count": 1,
   "id": "b150a2bf",
   "metadata": {},
   "outputs": [],
   "source": [
    "import zipfile\n",
    "zip_file_path = 'archive.zip'\n",
    "destination_dir = ''\n",
    "with zipfile.ZipFile(zip_file_path, 'r') as zip_ref:\n",
    "    zip_ref.extractall(destination_dir)"
   ]
  },
  {
   "cell_type": "code",
   "execution_count": 56,
   "id": "9fbabf38",
   "metadata": {},
   "outputs": [],
   "source": [
    "import numpy as np\n",
    "import pandas as pd"
   ]
  },
  {
   "cell_type": "code",
   "execution_count": 93,
   "id": "18a9070d",
   "metadata": {},
   "outputs": [],
   "source": [
    "df= pd.read_csv(\"test.csv\")"
   ]
  },
  {
   "cell_type": "code",
   "execution_count": 94,
   "id": "d96f826d",
   "metadata": {},
   "outputs": [
    {
     "data": {
      "text/html": [
       "<div>\n",
       "<style scoped>\n",
       "    .dataframe tbody tr th:only-of-type {\n",
       "        vertical-align: middle;\n",
       "    }\n",
       "\n",
       "    .dataframe tbody tr th {\n",
       "        vertical-align: top;\n",
       "    }\n",
       "\n",
       "    .dataframe thead th {\n",
       "        text-align: right;\n",
       "    }\n",
       "</style>\n",
       "<table border=\"1\" class=\"dataframe\">\n",
       "  <thead>\n",
       "    <tr style=\"text-align: right;\">\n",
       "      <th></th>\n",
       "      <th>order_id</th>\n",
       "      <th>user_id</th>\n",
       "      <th>order_number</th>\n",
       "      <th>order_dow</th>\n",
       "      <th>order_hour_of_day</th>\n",
       "      <th>days_since_prior_order</th>\n",
       "      <th>product_id</th>\n",
       "      <th>add_to_cart_order</th>\n",
       "      <th>reordered</th>\n",
       "      <th>department_id</th>\n",
       "      <th>department</th>\n",
       "      <th>product_name</th>\n",
       "    </tr>\n",
       "  </thead>\n",
       "  <tbody>\n",
       "    <tr>\n",
       "      <th>0</th>\n",
       "      <td>2425083</td>\n",
       "      <td>49125</td>\n",
       "      <td>1</td>\n",
       "      <td>2</td>\n",
       "      <td>18</td>\n",
       "      <td>NaN</td>\n",
       "      <td>36</td>\n",
       "      <td>3</td>\n",
       "      <td>0</td>\n",
       "      <td>16</td>\n",
       "      <td>dairy eggs</td>\n",
       "      <td>butter</td>\n",
       "    </tr>\n",
       "    <tr>\n",
       "      <th>1</th>\n",
       "      <td>2425083</td>\n",
       "      <td>49125</td>\n",
       "      <td>1</td>\n",
       "      <td>2</td>\n",
       "      <td>18</td>\n",
       "      <td>NaN</td>\n",
       "      <td>83</td>\n",
       "      <td>4</td>\n",
       "      <td>0</td>\n",
       "      <td>4</td>\n",
       "      <td>produce</td>\n",
       "      <td>fresh vegetables</td>\n",
       "    </tr>\n",
       "    <tr>\n",
       "      <th>2</th>\n",
       "      <td>2425083</td>\n",
       "      <td>49125</td>\n",
       "      <td>1</td>\n",
       "      <td>2</td>\n",
       "      <td>18</td>\n",
       "      <td>NaN</td>\n",
       "      <td>83</td>\n",
       "      <td>5</td>\n",
       "      <td>0</td>\n",
       "      <td>4</td>\n",
       "      <td>produce</td>\n",
       "      <td>fresh vegetables</td>\n",
       "    </tr>\n",
       "    <tr>\n",
       "      <th>3</th>\n",
       "      <td>2425083</td>\n",
       "      <td>49125</td>\n",
       "      <td>1</td>\n",
       "      <td>2</td>\n",
       "      <td>18</td>\n",
       "      <td>NaN</td>\n",
       "      <td>91</td>\n",
       "      <td>6</td>\n",
       "      <td>0</td>\n",
       "      <td>16</td>\n",
       "      <td>dairy eggs</td>\n",
       "      <td>soy lactosefree</td>\n",
       "    </tr>\n",
       "    <tr>\n",
       "      <th>4</th>\n",
       "      <td>2425083</td>\n",
       "      <td>49125</td>\n",
       "      <td>1</td>\n",
       "      <td>2</td>\n",
       "      <td>18</td>\n",
       "      <td>NaN</td>\n",
       "      <td>120</td>\n",
       "      <td>7</td>\n",
       "      <td>0</td>\n",
       "      <td>16</td>\n",
       "      <td>dairy eggs</td>\n",
       "      <td>yogurt</td>\n",
       "    </tr>\n",
       "  </tbody>\n",
       "</table>\n",
       "</div>"
      ],
      "text/plain": [
       "   order_id  user_id  order_number  order_dow  order_hour_of_day  \\\n",
       "0   2425083    49125             1          2                 18   \n",
       "1   2425083    49125             1          2                 18   \n",
       "2   2425083    49125             1          2                 18   \n",
       "3   2425083    49125             1          2                 18   \n",
       "4   2425083    49125             1          2                 18   \n",
       "\n",
       "   days_since_prior_order  product_id  add_to_cart_order  reordered  \\\n",
       "0                     NaN          36                  3          0   \n",
       "1                     NaN          83                  4          0   \n",
       "2                     NaN          83                  5          0   \n",
       "3                     NaN          91                  6          0   \n",
       "4                     NaN         120                  7          0   \n",
       "\n",
       "   department_id  department      product_name  \n",
       "0             16  dairy eggs            butter  \n",
       "1              4     produce  fresh vegetables  \n",
       "2              4     produce  fresh vegetables  \n",
       "3             16  dairy eggs   soy lactosefree  \n",
       "4             16  dairy eggs            yogurt  "
      ]
     },
     "execution_count": 94,
     "metadata": {},
     "output_type": "execute_result"
    }
   ],
   "source": [
    "df.head()"
   ]
  },
  {
   "cell_type": "code",
   "execution_count": 95,
   "id": "10ddf794",
   "metadata": {},
   "outputs": [
    {
     "data": {
      "text/plain": [
       "order_id\n",
       "763857     fresh vegetablescreamfresh vegetablesother cre...\n",
       "887348                                                 cream\n",
       "1120472    breadbutterfresh vegetablesfresh fruitsdry pas...\n",
       "1201011    teafresh vegetablesfresh vegetablesfresh fruit...\n",
       "1244093    fresh fruitssoft drinkssoft drinkspackaged veg...\n",
       "1670129    fresh fruitsfresh fruitsfresh fruitsyogurtpack...\n",
       "1906860    fresh vegetableseggsfresh fruitsfresh fruitsbu...\n",
       "1944304    ice cream icefresh fruitsfresh vegetablesmilks...\n",
       "2425083    butterfresh vegetablesfresh vegetablessoy lact...\n",
       "2528322    eggsfresh fruitsfresh fruitsmilkfresh vegetabl...\n",
       "2675812                                         fresh fruits\n",
       "2766469    creameggsyogurtbaking ingredientsbaking ingred...\n",
       "2888120    frozen breakfastpackaged vegetables fruitsfres...\n",
       "2951748     yogurtfresh vegetablespackaged vegetables fruits\n",
       "3195784                                   coffeefresh fruits\n",
       "3257000    coffeefresh fruitsfresh vegetablesyogurtfresh ...\n",
       "Name: product_name, dtype: object"
      ]
     },
     "execution_count": 95,
     "metadata": {},
     "output_type": "execute_result"
    }
   ],
   "source": [
    "new1 = df.groupby(['order_id'])['product_name'].apply(sum)\n",
    "new1"
   ]
  },
  {
   "cell_type": "code",
   "execution_count": 96,
   "id": "985dc1e7",
   "metadata": {},
   "outputs": [
    {
     "name": "stdout",
     "output_type": "stream",
     "text": [
      "[[763857, ['fresh vegetables', 'cream', 'fresh vegetables', 'other creams cheeses']], [887348, ['cream']], [1120472, ['bread', 'butter', 'fresh vegetables', 'fresh fruits', 'dry pasta', 'pasta sauce', 'prepared meals']], [1201011, ['tea', 'fresh vegetables', 'fresh vegetables', 'fresh fruits', 'yogurt', 'yogurt', 'soy lactosefree', 'yogurt', 'yogurt', 'bakery desserts', 'fresh fruits', 'butter', 'cereal', 'eggs']], [1244093, ['fresh fruits', 'soft drinks', 'soft drinks', 'packaged vegetables fruits', 'eggs']], [1670129, ['fresh fruits', 'fresh fruits', 'fresh fruits', 'yogurt', 'packaged vegetables fruits', 'fresh vegetables', 'soft drinks', 'packaged vegetables fruits']], [1906860, ['fresh vegetables', 'eggs', 'fresh fruits', 'fresh fruits', 'buns rolls', 'yogurt', 'fresh fruits', 'fresh vegetables', 'fresh vegetables', 'fresh vegetables', 'fresh fruits']], [1944304, ['ice cream ice', 'fresh fruits', 'fresh vegetables', 'milk', 'soy lactosefree', 'fresh fruits', 'fresh fruits', 'fresh fruits', 'packaged cheese', 'bread', 'fresh fruits', 'fresh fruits', 'fresh fruits']], [2425083, ['butter', 'fresh vegetables', 'fresh vegetables', 'soy lactosefree', 'yogurt', 'canned meals beans', 'poultry counter']], [2528322, ['eggs', 'fresh fruits', 'fresh fruits', 'milk', 'fresh vegetables', 'fresh vegetables', 'fresh vegetables']], [2675812, ['fresh fruits']], [2766469, ['cream', 'eggs', 'yogurt', 'baking ingredients', 'baking ingredients', 'baking ingredients', 'fresh fruits', 'pickled goods olives', 'fresh vegetables', 'packaged cheese', 'packaged cheese', 'fresh vegetables', 'other creams cheeses']], [2888120, ['frozen breakfast', 'packaged vegetables fruits', 'fresh herbs', 'fresh vegetables', 'bread', 'fresh vegetables']], [2951748, ['yogurt', 'fresh vegetables', 'packaged vegetables fruits']], [3195784, ['coffee', 'fresh fruits']], [3257000, ['coffee', 'fresh fruits', 'fresh vegetables', 'yogurt', 'fresh fruits', 'cereal', 'fresh fruits']]]\n"
     ]
    }
   ],
   "source": [
    "data = []\n",
    "for a in list(df.groupby(['order_id'])):\n",
    "    result_list = [a[0][0], a[1]['product_name'].tolist()]\n",
    "    data.append(result_list)\n",
    "print(data)\n"
   ]
  },
  {
   "cell_type": "code",
   "execution_count": 97,
   "id": "a1f74169",
   "metadata": {},
   "outputs": [
    {
     "name": "stdout",
     "output_type": "stream",
     "text": [
      "['bakery desserts', 'baking ingredients', 'bread', 'buns rolls', 'butter', 'canned meals beans', 'cereal', 'coffee', 'cream', 'dry pasta', 'eggs', 'fresh fruits', 'fresh herbs', 'fresh vegetables', 'frozen breakfast', 'ice cream ice', 'milk', 'other creams cheeses', 'packaged cheese', 'packaged vegetables fruits', 'pasta sauce', 'pickled goods olives', 'poultry counter', 'prepared meals', 'soft drinks', 'soy lactosefree', 'tea', 'yogurt']\n"
     ]
    }
   ],
   "source": [
    "item = []\n",
    "for i in data:\n",
    "    for q in i[1]:\n",
    "        if(q not in item):\n",
    "            item.append(q)\n",
    "item = sorted(item)\n",
    "print(item)"
   ]
  },
  {
   "cell_type": "code",
   "execution_count": 101,
   "id": "141ee1ff",
   "metadata": {},
   "outputs": [
    {
     "name": "stdout",
     "output_type": "stream",
     "text": [
      "4.8\n"
     ]
    }
   ],
   "source": [
    "min_sup = 0.3\n",
    "min_support_count = min_sup*len(data)\n",
    "print(min_support_count)"
   ]
  },
  {
   "cell_type": "code",
   "execution_count": 102,
   "id": "40c1bb8f",
   "metadata": {},
   "outputs": [
    {
     "name": "stdout",
     "output_type": "stream",
     "text": [
      "C1\n",
      "['bakery desserts']: 1\n",
      "['baking ingredients']: 1\n",
      "['bread']: 3\n",
      "['buns rolls']: 1\n",
      "['butter']: 3\n",
      "['canned meals beans']: 1\n",
      "['cereal']: 2\n",
      "['coffee']: 2\n",
      "['cream']: 3\n",
      "['dry pasta']: 1\n",
      "['eggs']: 5\n",
      "['fresh fruits']: 11\n",
      "['fresh herbs']: 1\n",
      "['fresh vegetables']: 12\n",
      "['frozen breakfast']: 1\n",
      "['ice cream ice']: 1\n",
      "['milk']: 2\n",
      "['other creams cheeses']: 2\n",
      "['packaged cheese']: 2\n",
      "['packaged vegetables fruits']: 4\n",
      "['pasta sauce']: 1\n",
      "['pickled goods olives']: 1\n",
      "['poultry counter']: 1\n",
      "['prepared meals']: 1\n",
      "['soft drinks']: 2\n",
      "['soy lactosefree']: 3\n",
      "['tea']: 1\n",
      "['yogurt']: 7\n",
      "L1:\n",
      "['eggs']: 5\n",
      "['fresh fruits']: 11\n",
      "['fresh vegetables']: 12\n",
      "['yogurt']: 7\n"
     ]
    }
   ],
   "source": [
    "# 1-itemset\n",
    "from collections import Counter\n",
    "c = Counter()\n",
    "for i in item:\n",
    "    for d in data:\n",
    "        if(i in d[1]):\n",
    "            c[i]+=1\n",
    "print(\"C1\")\n",
    "for i in c:\n",
    "    print(str([i])+\": \"+str(c[i]))\n",
    "    \n",
    "# Các tập phổ biến 1 phần tử (tập các ứng viên thỏa mãn min_support_count)\n",
    "l = Counter()\n",
    "for i in c:\n",
    "    if(c[i] >= min_support_count):\n",
    "        l[frozenset([i])]+=c[i]\n",
    "print(\"L1:\")\n",
    "for i in l:\n",
    "    print(str(list(i))+\": \"+str(l[i]))"
   ]
  },
  {
   "cell_type": "code",
   "execution_count": 103,
   "id": "2fddebc3",
   "metadata": {},
   "outputs": [
    {
     "name": "stdout",
     "output_type": "stream",
     "text": [
      "C2:\n",
      "['yogurt', 'eggs']: 3\n",
      "['eggs', 'fresh vegetables']: 4\n",
      "['eggs', 'fresh fruits']: 5\n",
      "['yogurt', 'fresh vegetables']: 7\n",
      "['yogurt', 'fresh fruits']: 5\n",
      "['fresh fruits', 'fresh vegetables']: 8\n",
      "L2:\n",
      "['eggs', 'fresh fruits']: 5\n",
      "['yogurt', 'fresh vegetables']: 7\n",
      "['yogurt', 'fresh fruits']: 5\n",
      "['fresh fruits', 'fresh vegetables']: 8\n",
      "C3:\n",
      "['yogurt', 'eggs', 'fresh fruits']: 3\n",
      "['yogurt', 'fresh fruits', 'fresh vegetables']: 5\n",
      "['eggs', 'fresh fruits', 'fresh vegetables']: 4\n",
      "L3:\n",
      "['yogurt', 'fresh fruits', 'fresh vegetables']: 5\n",
      "C4:\n",
      "L4:\n",
      "Result: \n",
      "L3:\n",
      "['yogurt', 'fresh fruits', 'fresh vegetables']: 5\n"
     ]
    }
   ],
   "source": [
    "# k-itemset\n",
    "frequent_itemset = l\n",
    "pos = 1\n",
    "for count in range (2,1000):\n",
    "    item_set = set()\n",
    "    temp = list(l)\n",
    "    for i in range(0,len(temp)):\n",
    "        for j in range(i+1,len(temp)):\n",
    "            t = temp[i].union(temp[j])\n",
    "            if(len(t) == count):\n",
    "                item_set.add(temp[i].union(temp[j]))\n",
    "    item_set = list(item_set)\n",
    "    c = Counter()\n",
    "    for i in item_set:\n",
    "        c[i] = 0\n",
    "        for q in data:\n",
    "            temp = set(q[1])\n",
    "            if(i.issubset(temp)):\n",
    "                c[i]+=1\n",
    "    print(\"C\"+str(count)+\":\")\n",
    "    for i in c:\n",
    "        print(str(list(i))+\": \"+str(c[i]))\n",
    "    l = Counter()\n",
    "    for i in c:\n",
    "        if(c[i] >= min_support_count):\n",
    "            l[i]+=c[i]\n",
    "    print(\"L\"+str(count)+\":\")\n",
    "    for i in l:\n",
    "        print(str(list(i))+\": \"+str(l[i]))\n",
    "    if(len(l) == 0):\n",
    "        break\n",
    "    frequent_itemset = l\n",
    "    pos = count\n",
    "print(\"Result: \")\n",
    "print(\"L\"+str(pos)+\":\")\n",
    "for i in frequent_itemset:\n",
    "    print(str(list(i))+\": \"+str(frequent_itemset[i]))"
   ]
  },
  {
   "cell_type": "code",
   "execution_count": 104,
   "id": "c2c4ecf9",
   "metadata": {},
   "outputs": [
    {
     "name": "stdout",
     "output_type": "stream",
     "text": [
      "association rule:\n",
      "['yogurt', 'fresh fruits'] -> ['fresh vegetables'] = 1.0\n",
      "['yogurt', 'fresh vegetables'] -> ['fresh fruits'] = 0.7142857142857143\n",
      "['yogurt'] -> ['fresh fruits', 'fresh vegetables'] = 0.7142857142857143\n"
     ]
    }
   ],
   "source": [
    "# find association rule\n",
    "from itertools import combinations\n",
    "list_association = []\n",
    "min_conf = 0.7\n",
    "for l in frequent_itemset:\n",
    "    c = [frozenset(q) for q in combinations(l,len(l)-1)]\n",
    "    curr = 1\n",
    "    print(\"association rule:\")\n",
    "    for a in c:\n",
    "        b = l-a\n",
    "        ab = l\n",
    "        sab = 0\n",
    "        sa = 0\n",
    "        sb = 0\n",
    "        for q in data:\n",
    "            temp = set(q[1])\n",
    "            if(a.issubset(temp)):\n",
    "                sa+=1\n",
    "            if(b.issubset(temp)):\n",
    "                sb+=1\n",
    "            if(ab.issubset(temp)):\n",
    "                sab+=1\n",
    "        temp = sab/sa\n",
    "        if(temp > min_conf):\n",
    "            association = [list(a), list(b)]\n",
    "            list_association.append(association)\n",
    "            print(str(list(a))+\" -> \"+str(list(b))+\" = \"+str(sab/sa))\n",
    "        curr += 1\n",
    "        temp = sab/sb\n",
    "        if(temp > min_conf):\n",
    "            association = [list(b), list(a)]\n",
    "            list_association.append(association)\n",
    "            print(str(list(b))+\" -> \"+str(list(a))+\" = \"+str(sab/sb))\n",
    "        curr += 1"
   ]
  },
  {
   "cell_type": "code",
   "execution_count": 105,
   "id": "9ac47a48",
   "metadata": {},
   "outputs": [
    {
     "name": "stdout",
     "output_type": "stream",
     "text": [
      "[[['yogurt', 'fresh fruits'], ['fresh vegetables']], [['yogurt', 'fresh vegetables'], ['fresh fruits']], [['yogurt'], ['fresh fruits', 'fresh vegetables']]]\n"
     ]
    }
   ],
   "source": [
    "print(list_association)"
   ]
  },
  {
   "cell_type": "code",
   "execution_count": 107,
   "id": "d2498769",
   "metadata": {},
   "outputs": [
    {
     "name": "stdout",
     "output_type": "stream",
     "text": [
      "Recommend product for user:\n",
      "[['fresh vegetables'], ['fresh fruits'], ['fresh fruits', 'fresh vegetables']]\n"
     ]
    }
   ],
   "source": [
    "test_user_cart = ['yogurt']\n",
    "list_recommend =[]\n",
    "for i in list_association:\n",
    "    all_included = all(elem in i[0] for elem in test_user_cart)\n",
    "    if all_included:\n",
    "        if(i[1] not in list_recommend):\n",
    "            list_recommend.append(i[1])\n",
    "print('Recommend product for user:')\n",
    "print(list_recommend)  "
   ]
  },
  {
   "cell_type": "code",
   "execution_count": null,
   "id": "bd53460d",
   "metadata": {},
   "outputs": [],
   "source": []
  }
 ],
 "metadata": {
  "kernelspec": {
   "display_name": "Python 3 (ipykernel)",
   "language": "python",
   "name": "python3"
  },
  "language_info": {
   "codemirror_mode": {
    "name": "ipython",
    "version": 3
   },
   "file_extension": ".py",
   "mimetype": "text/x-python",
   "name": "python",
   "nbconvert_exporter": "python",
   "pygments_lexer": "ipython3",
   "version": "3.11.0"
  }
 },
 "nbformat": 4,
 "nbformat_minor": 5
}
