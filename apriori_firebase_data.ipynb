{
 "cells": [
  {
   "cell_type": "code",
   "execution_count": 157,
   "id": "cb765245",
   "metadata": {},
   "outputs": [
    {
     "name": "stdout",
     "output_type": "stream",
     "text": [
      "Collecting firebase-admin\n",
      "  Downloading firebase_admin-6.2.0-py3-none-any.whl (119 kB)\n",
      "     -------------------------------------- 119.9/119.9 kB 1.4 MB/s eta 0:00:00\n",
      "Requirement already satisfied: pandas in c:\\users\\luuth\\appdata\\local\\programs\\python\\python311\\lib\\site-packages (2.0.3)\n",
      "Collecting cachecontrol>=0.12.6 (from firebase-admin)\n",
      "  Downloading cachecontrol-0.13.1-py3-none-any.whl (22 kB)\n",
      "Collecting google-api-python-client>=1.7.8 (from firebase-admin)\n",
      "  Downloading google_api_python_client-2.93.0-py2.py3-none-any.whl (11.4 MB)\n",
      "     ---------------------------------------- 11.4/11.4 MB 2.6 MB/s eta 0:00:00\n",
      "Collecting google-cloud-storage>=1.37.1 (from firebase-admin)\n",
      "  Downloading google_cloud_storage-2.10.0-py2.py3-none-any.whl (114 kB)\n",
      "     -------------------------------------- 114.6/114.6 kB 3.3 MB/s eta 0:00:00\n",
      "Collecting pyjwt[crypto]>=2.5.0 (from firebase-admin)\n",
      "  Downloading PyJWT-2.7.0-py3-none-any.whl (22 kB)\n",
      "Collecting google-api-core[grpc]<3.0.0dev,>=1.22.1 (from firebase-admin)\n",
      "  Downloading google_api_core-2.11.1-py3-none-any.whl (120 kB)\n",
      "     -------------------------------------- 120.5/120.5 kB 3.6 MB/s eta 0:00:00\n",
      "Collecting google-cloud-firestore>=2.9.1 (from firebase-admin)\n",
      "  Downloading google_cloud_firestore-2.11.1-py2.py3-none-any.whl (283 kB)\n",
      "     -------------------------------------- 283.8/283.8 kB 3.5 MB/s eta 0:00:00\n",
      "Requirement already satisfied: python-dateutil>=2.8.2 in c:\\users\\luuth\\appdata\\local\\programs\\python\\python311\\lib\\site-packages (from pandas) (2.8.2)\n",
      "Requirement already satisfied: pytz>=2020.1 in c:\\users\\luuth\\appdata\\local\\programs\\python\\python311\\lib\\site-packages (from pandas) (2023.3)\n",
      "Requirement already satisfied: tzdata>=2022.1 in c:\\users\\luuth\\appdata\\local\\programs\\python\\python311\\lib\\site-packages (from pandas) (2023.3)\n",
      "Requirement already satisfied: numpy>=1.21.0 in c:\\users\\luuth\\appdata\\local\\programs\\python\\python311\\lib\\site-packages (from pandas) (1.25.1)\n",
      "Requirement already satisfied: requests>=2.16.0 in c:\\users\\luuth\\appdata\\local\\programs\\python\\python311\\lib\\site-packages (from cachecontrol>=0.12.6->firebase-admin) (2.31.0)\n",
      "Collecting msgpack>=0.5.2 (from cachecontrol>=0.12.6->firebase-admin)\n",
      "  Downloading msgpack-1.0.5-cp311-cp311-win_amd64.whl (60 kB)\n",
      "     ---------------------------------------- 60.8/60.8 kB 3.4 MB/s eta 0:00:00\n",
      "Collecting googleapis-common-protos<2.0.dev0,>=1.56.2 (from google-api-core[grpc]<3.0.0dev,>=1.22.1->firebase-admin)\n",
      "  Downloading googleapis_common_protos-1.59.1-py2.py3-none-any.whl (224 kB)\n",
      "     -------------------------------------- 224.5/224.5 kB 4.6 MB/s eta 0:00:00\n",
      "Collecting protobuf!=3.20.0,!=3.20.1,!=4.21.0,!=4.21.1,!=4.21.2,!=4.21.3,!=4.21.4,!=4.21.5,<5.0.0.dev0,>=3.19.5 (from google-api-core[grpc]<3.0.0dev,>=1.22.1->firebase-admin)\n",
      "  Downloading protobuf-4.23.4-cp310-abi3-win_amd64.whl (422 kB)\n",
      "     -------------------------------------- 422.5/422.5 kB 3.3 MB/s eta 0:00:00\n",
      "Collecting google-auth<3.0.dev0,>=2.14.1 (from google-api-core[grpc]<3.0.0dev,>=1.22.1->firebase-admin)\n",
      "  Downloading google_auth-2.22.0-py2.py3-none-any.whl (181 kB)\n",
      "     -------------------------------------- 181.8/181.8 kB 2.2 MB/s eta 0:00:00\n",
      "Collecting grpcio<2.0dev,>=1.33.2 (from google-api-core[grpc]<3.0.0dev,>=1.22.1->firebase-admin)\n",
      "  Downloading grpcio-1.56.0-cp311-cp311-win_amd64.whl (4.2 MB)\n",
      "     ---------------------------------------- 4.2/4.2 MB 4.1 MB/s eta 0:00:00\n",
      "Collecting grpcio-status<2.0.dev0,>=1.33.2 (from google-api-core[grpc]<3.0.0dev,>=1.22.1->firebase-admin)\n",
      "  Downloading grpcio_status-1.56.0-py3-none-any.whl (5.1 kB)\n",
      "Collecting httplib2<1.dev0,>=0.15.0 (from google-api-python-client>=1.7.8->firebase-admin)\n",
      "  Downloading httplib2-0.22.0-py3-none-any.whl (96 kB)\n",
      "     ---------------------------------------- 96.9/96.9 kB 5.8 MB/s eta 0:00:00\n",
      "Collecting google-auth-httplib2>=0.1.0 (from google-api-python-client>=1.7.8->firebase-admin)\n",
      "  Downloading google_auth_httplib2-0.1.0-py2.py3-none-any.whl (9.3 kB)\n",
      "Collecting uritemplate<5,>=3.0.1 (from google-api-python-client>=1.7.8->firebase-admin)\n",
      "  Downloading uritemplate-4.1.1-py2.py3-none-any.whl (10 kB)\n",
      "Collecting google-cloud-core<3.0.0dev,>=1.4.1 (from google-cloud-firestore>=2.9.1->firebase-admin)\n",
      "  Downloading google_cloud_core-2.3.3-py2.py3-none-any.whl (29 kB)\n",
      "Collecting proto-plus<2.0.0dev,>=1.22.0 (from google-cloud-firestore>=2.9.1->firebase-admin)\n",
      "  Downloading proto_plus-1.22.3-py3-none-any.whl (48 kB)\n",
      "     ---------------------------------------- 48.1/48.1 kB ? eta 0:00:00\n",
      "Collecting google-resumable-media>=2.3.2 (from google-cloud-storage>=1.37.1->firebase-admin)\n",
      "  Downloading google_resumable_media-2.5.0-py2.py3-none-any.whl (77 kB)\n",
      "     ---------------------------------------- 77.7/77.7 kB 4.2 MB/s eta 0:00:00\n",
      "Collecting cryptography>=3.4.0 (from pyjwt[crypto]>=2.5.0->firebase-admin)\n",
      "  Downloading cryptography-41.0.2-cp37-abi3-win_amd64.whl (2.6 MB)\n",
      "     ---------------------------------------- 2.6/2.6 MB 4.4 MB/s eta 0:00:00\n",
      "Requirement already satisfied: six>=1.5 in c:\\users\\luuth\\appdata\\local\\programs\\python\\python311\\lib\\site-packages (from python-dateutil>=2.8.2->pandas) (1.16.0)\n",
      "Requirement already satisfied: cffi>=1.12 in c:\\users\\luuth\\appdata\\local\\programs\\python\\python311\\lib\\site-packages (from cryptography>=3.4.0->pyjwt[crypto]>=2.5.0->firebase-admin) (1.15.1)\n",
      "Collecting cachetools<6.0,>=2.0.0 (from google-auth<3.0.dev0,>=2.14.1->google-api-core[grpc]<3.0.0dev,>=1.22.1->firebase-admin)\n",
      "  Downloading cachetools-5.3.1-py3-none-any.whl (9.3 kB)\n",
      "Collecting pyasn1-modules>=0.2.1 (from google-auth<3.0.dev0,>=2.14.1->google-api-core[grpc]<3.0.0dev,>=1.22.1->firebase-admin)\n",
      "  Downloading pyasn1_modules-0.3.0-py2.py3-none-any.whl (181 kB)\n",
      "     -------------------------------------- 181.3/181.3 kB 3.6 MB/s eta 0:00:00\n",
      "Collecting rsa<5,>=3.1.4 (from google-auth<3.0.dev0,>=2.14.1->google-api-core[grpc]<3.0.0dev,>=1.22.1->firebase-admin)\n",
      "  Downloading rsa-4.9-py3-none-any.whl (34 kB)\n",
      "Collecting urllib3<2.0 (from google-auth<3.0.dev0,>=2.14.1->google-api-core[grpc]<3.0.0dev,>=1.22.1->firebase-admin)\n",
      "  Downloading urllib3-1.26.16-py2.py3-none-any.whl (143 kB)\n",
      "     -------------------------------------- 143.1/143.1 kB 8.3 MB/s eta 0:00:00\n",
      "Collecting google-crc32c<2.0dev,>=1.0 (from google-resumable-media>=2.3.2->google-cloud-storage>=1.37.1->firebase-admin)\n",
      "  Downloading google_crc32c-1.5.0-cp311-cp311-win_amd64.whl (27 kB)\n",
      "Requirement already satisfied: pyparsing!=3.0.0,!=3.0.1,!=3.0.2,!=3.0.3,<4,>=2.4.2 in c:\\users\\luuth\\appdata\\local\\programs\\python\\python311\\lib\\site-packages (from httplib2<1.dev0,>=0.15.0->google-api-python-client>=1.7.8->firebase-admin) (3.0.9)\n",
      "Requirement already satisfied: charset-normalizer<4,>=2 in c:\\users\\luuth\\appdata\\local\\programs\\python\\python311\\lib\\site-packages (from requests>=2.16.0->cachecontrol>=0.12.6->firebase-admin) (3.2.0)\n",
      "Requirement already satisfied: idna<4,>=2.5 in c:\\users\\luuth\\appdata\\local\\programs\\python\\python311\\lib\\site-packages (from requests>=2.16.0->cachecontrol>=0.12.6->firebase-admin) (3.4)\n",
      "Requirement already satisfied: certifi>=2017.4.17 in c:\\users\\luuth\\appdata\\local\\programs\\python\\python311\\lib\\site-packages (from requests>=2.16.0->cachecontrol>=0.12.6->firebase-admin) (2023.5.7)\n",
      "Requirement already satisfied: pycparser in c:\\users\\luuth\\appdata\\local\\programs\\python\\python311\\lib\\site-packages (from cffi>=1.12->cryptography>=3.4.0->pyjwt[crypto]>=2.5.0->firebase-admin) (2.21)\n",
      "Collecting pyasn1<0.6.0,>=0.4.6 (from pyasn1-modules>=0.2.1->google-auth<3.0.dev0,>=2.14.1->google-api-core[grpc]<3.0.0dev,>=1.22.1->firebase-admin)\n",
      "  Downloading pyasn1-0.5.0-py2.py3-none-any.whl (83 kB)\n",
      "     ---------------------------------------- 83.9/83.9 kB 2.3 MB/s eta 0:00:00\n",
      "Installing collected packages: msgpack, urllib3, uritemplate, pyjwt, pyasn1, protobuf, httplib2, grpcio, google-crc32c, cachetools, rsa, pyasn1-modules, proto-plus, googleapis-common-protos, google-resumable-media, cryptography, grpcio-status, google-auth, cachecontrol, google-auth-httplib2, google-api-core, google-cloud-core, google-api-python-client, google-cloud-storage, google-cloud-firestore, firebase-admin\n",
      "  Attempting uninstall: urllib3\n",
      "    Found existing installation: urllib3 2.0.3\n",
      "    Uninstalling urllib3-2.0.3:\n",
      "      Successfully uninstalled urllib3-2.0.3\n",
      "Successfully installed cachecontrol-0.13.1 cachetools-5.3.1 cryptography-41.0.2 firebase-admin-6.2.0 google-api-core-2.11.1 google-api-python-client-2.93.0 google-auth-2.22.0 google-auth-httplib2-0.1.0 google-cloud-core-2.3.3 google-cloud-firestore-2.11.1 google-cloud-storage-2.10.0 google-crc32c-1.5.0 google-resumable-media-2.5.0 googleapis-common-protos-1.59.1 grpcio-1.56.0 grpcio-status-1.56.0 httplib2-0.22.0 msgpack-1.0.5 proto-plus-1.22.3 protobuf-4.23.4 pyasn1-0.5.0 pyasn1-modules-0.3.0 pyjwt-2.7.0 rsa-4.9 uritemplate-4.1.1 urllib3-1.26.16\n",
      "Note: you may need to restart the kernel to use updated packages.\n"
     ]
    }
   ],
   "source": [
    "pip install firebase-admin pandas"
   ]
  },
  {
   "cell_type": "code",
   "execution_count": 164,
   "id": "a6f52ef3",
   "metadata": {},
   "outputs": [],
   "source": [
    "import firebase_admin\n",
    "from firebase_admin import credentials, firestore"
   ]
  },
  {
   "cell_type": "code",
   "execution_count": 165,
   "id": "f059475b",
   "metadata": {},
   "outputs": [
    {
     "ename": "ValueError",
     "evalue": "The default Firebase app already exists. This means you called initialize_app() more than once without providing an app name as the second argument. In most cases you only need to call initialize_app() once. But if you do want to initialize multiple apps, pass a second argument to initialize_app() to give each app a unique name.",
     "output_type": "error",
     "traceback": [
      "\u001b[1;31m---------------------------------------------------------------------------\u001b[0m",
      "\u001b[1;31mValueError\u001b[0m                                Traceback (most recent call last)",
      "Cell \u001b[1;32mIn [165], line 2\u001b[0m\n\u001b[0;32m      1\u001b[0m cred \u001b[38;5;241m=\u001b[39m credentials\u001b[38;5;241m.\u001b[39mCertificate(\u001b[38;5;124m'\u001b[39m\u001b[38;5;124mhealthyplusweb-4d3bf-firebase-adminsdk-bs406-e1c05c4810.json\u001b[39m\u001b[38;5;124m'\u001b[39m)\n\u001b[1;32m----> 2\u001b[0m \u001b[43mfirebase_admin\u001b[49m\u001b[38;5;241;43m.\u001b[39;49m\u001b[43minitialize_app\u001b[49m\u001b[43m(\u001b[49m\u001b[43mcred\u001b[49m\u001b[43m)\u001b[49m\n",
      "File \u001b[1;32m~\\AppData\\Local\\Programs\\Python\\Python311\\Lib\\site-packages\\firebase_admin\\__init__.py:71\u001b[0m, in \u001b[0;36minitialize_app\u001b[1;34m(credential, options, name)\u001b[0m\n\u001b[0;32m     68\u001b[0m         \u001b[38;5;28;01mreturn\u001b[39;00m app\n\u001b[0;32m     70\u001b[0m \u001b[38;5;28;01mif\u001b[39;00m name \u001b[38;5;241m==\u001b[39m _DEFAULT_APP_NAME:\n\u001b[1;32m---> 71\u001b[0m     \u001b[38;5;28;01mraise\u001b[39;00m \u001b[38;5;167;01mValueError\u001b[39;00m((\n\u001b[0;32m     72\u001b[0m         \u001b[38;5;124m'\u001b[39m\u001b[38;5;124mThe default Firebase app already exists. This means you called \u001b[39m\u001b[38;5;124m'\u001b[39m\n\u001b[0;32m     73\u001b[0m         \u001b[38;5;124m'\u001b[39m\u001b[38;5;124minitialize_app() more than once without providing an app name as \u001b[39m\u001b[38;5;124m'\u001b[39m\n\u001b[0;32m     74\u001b[0m         \u001b[38;5;124m'\u001b[39m\u001b[38;5;124mthe second argument. In most cases you only need to call \u001b[39m\u001b[38;5;124m'\u001b[39m\n\u001b[0;32m     75\u001b[0m         \u001b[38;5;124m'\u001b[39m\u001b[38;5;124minitialize_app() once. But if you do want to initialize multiple \u001b[39m\u001b[38;5;124m'\u001b[39m\n\u001b[0;32m     76\u001b[0m         \u001b[38;5;124m'\u001b[39m\u001b[38;5;124mapps, pass a second argument to initialize_app() to give each app \u001b[39m\u001b[38;5;124m'\u001b[39m\n\u001b[0;32m     77\u001b[0m         \u001b[38;5;124m'\u001b[39m\u001b[38;5;124ma unique name.\u001b[39m\u001b[38;5;124m'\u001b[39m))\n\u001b[0;32m     79\u001b[0m \u001b[38;5;28;01mraise\u001b[39;00m \u001b[38;5;167;01mValueError\u001b[39;00m((\n\u001b[0;32m     80\u001b[0m     \u001b[38;5;124m'\u001b[39m\u001b[38;5;124mFirebase app named \u001b[39m\u001b[38;5;124m\"\u001b[39m\u001b[38;5;132;01m{0}\u001b[39;00m\u001b[38;5;124m\"\u001b[39m\u001b[38;5;124m already exists. This means you called \u001b[39m\u001b[38;5;124m'\u001b[39m\n\u001b[0;32m     81\u001b[0m     \u001b[38;5;124m'\u001b[39m\u001b[38;5;124minitialize_app() more than once with the same app name as the \u001b[39m\u001b[38;5;124m'\u001b[39m\n\u001b[0;32m     82\u001b[0m     \u001b[38;5;124m'\u001b[39m\u001b[38;5;124msecond argument. Make sure you provide a unique name every time \u001b[39m\u001b[38;5;124m'\u001b[39m\n\u001b[0;32m     83\u001b[0m     \u001b[38;5;124m'\u001b[39m\u001b[38;5;124myou call initialize_app().\u001b[39m\u001b[38;5;124m'\u001b[39m)\u001b[38;5;241m.\u001b[39mformat(name))\n",
      "\u001b[1;31mValueError\u001b[0m: The default Firebase app already exists. This means you called initialize_app() more than once without providing an app name as the second argument. In most cases you only need to call initialize_app() once. But if you do want to initialize multiple apps, pass a second argument to initialize_app() to give each app a unique name."
     ]
    }
   ],
   "source": [
    "cred = credentials.Certificate('healthyplusweb-4d3bf-firebase-adminsdk-bs406-e1c05c4810.json')\n",
    "firebase_admin.initialize_app(cred)"
   ]
  },
  {
   "cell_type": "code",
   "execution_count": 166,
   "id": "f4aeb0aa",
   "metadata": {},
   "outputs": [
    {
     "name": "stdout",
     "output_type": "stream",
     "text": [
      "[<google.cloud.firestore_v1.base_document.DocumentSnapshot object at 0x000001C3B4C64E50>, <google.cloud.firestore_v1.base_document.DocumentSnapshot object at 0x000001C3CD268AD0>, <google.cloud.firestore_v1.base_document.DocumentSnapshot object at 0x000001C3CD268290>, <google.cloud.firestore_v1.base_document.DocumentSnapshot object at 0x000001C3CD268DD0>, <google.cloud.firestore_v1.base_document.DocumentSnapshot object at 0x000001C3CD269050>, <google.cloud.firestore_v1.base_document.DocumentSnapshot object at 0x000001C3CD269210>, <google.cloud.firestore_v1.base_document.DocumentSnapshot object at 0x000001C3CD268E50>, <google.cloud.firestore_v1.base_document.DocumentSnapshot object at 0x000001C3CD268110>]\n"
     ]
    }
   ],
   "source": [
    "db = firestore.client()\n",
    "collection_ref = db.collection('cart')  # Replace with the name of your collection\n",
    "query = collection_ref.get()\n",
    "print(query)"
   ]
  },
  {
   "cell_type": "code",
   "execution_count": 183,
   "id": "df6b768e",
   "metadata": {},
   "outputs": [
    {
     "name": "stdout",
     "output_type": "stream",
     "text": [
      "[['AfbZApno6DdlPLFSsDOkZI7W4TC3', ['AYaWfXtAG52Lz3DQrsc9', '5GCXdvtVxaWl5eyE1jGc', 'RwTSbfmWRhiK0j4Ppfyb']], ['GuuIm7iJ3oX5BVycy9NupZhwOU72', ['K6scEyy0hwQh0FrhcWFE', '5GCXdvtVxaWl5eyE1jGc', '1g39t9bx6WDfuG9Zyex0', 'RwTSbfmWRhiK0j4Ppfyb']], ['RkCiNbyuCXRJk63HmZc2', ['K6scEyy0hwQh0FrhcWFE', '5GCXdvtVxaWl5eyE1jGc', '1g39t9bx6WDfuG9Zyex0', '0aAemGyX19f6efHUcYm9y47wQWw1', 'RwTSbfmWRhiK0j4Ppfyb']], ['SdECaUaOYsMcPTYLWnQCvTdRbOP2', ['AYaWfXtAG52Lz3DQrsc9', '5GCXdvtVxaWl5eyE1jGc', '1g39t9bx6WDfuG9Zyex0', 'RwTSbfmWRhiK0j4Ppfyb']], ['UUuScbpmQ1hvZ9sA0BVo3YnSMSD3', ['AYaWfXtAG52Lz3DQrsc9', 'K6scEyy0hwQh0FrhcWFE', '5GCXdvtVxaWl5eyE1jGc', '1g39t9bx6WDfuG9Zyex0', 'RwTSbfmWRhiK0j4Ppfyb']], ['c0FHgj67LtW1ZYeYw5oguUy6Gfy1', ['K6scEyy0hwQh0FrhcWFE', '5GCXdvtVxaWl5eyE1jGc', 'AYaWfXtAG52Lz3DQrsc9']], ['gkWEpitS3LUcfrYjb2YpzFntL0A2', ['5GCXdvtVxaWl5eyE1jGc', '1g39t9bx6WDfuG9Zyex0']], ['u9iqN340hBaCwWO7FszoEfAHnBC2', ['1g39t9bx6WDfuG9Zyex0', 'VEMo6WVhgKEt5dXMMeRi', 'clMAmP1ZIwSQoMf0bxai', 'AYaWfXtAG52Lz3DQrsc9']]]\n"
     ]
    }
   ],
   "source": [
    "data = []\n",
    "for doc in query:\n",
    "    num_tran+=1\n",
    "    result_list = [doc.id, list(doc.to_dict().keys())]\n",
    "    data.append(result_list)\n",
    "print(data)\n"
   ]
  },
  {
   "cell_type": "code",
   "execution_count": 181,
   "id": "b17d77d6",
   "metadata": {},
   "outputs": [
    {
     "name": "stdout",
     "output_type": "stream",
     "text": [
      "['0aAemGyX19f6efHUcYm9y47wQWw1', '1g39t9bx6WDfuG9Zyex0', '5GCXdvtVxaWl5eyE1jGc', 'AYaWfXtAG52Lz3DQrsc9', 'K6scEyy0hwQh0FrhcWFE', 'RwTSbfmWRhiK0j4Ppfyb', 'VEMo6WVhgKEt5dXMMeRi', 'clMAmP1ZIwSQoMf0bxai']\n"
     ]
    }
   ],
   "source": [
    "item = []\n",
    "for i in data:\n",
    "    for q in i[1]:\n",
    "        if(q not in item):\n",
    "            item.append(q)\n",
    "item = sorted(item)\n",
    "print(item)"
   ]
  },
  {
   "cell_type": "code",
   "execution_count": 182,
   "id": "1df4582c",
   "metadata": {},
   "outputs": [
    {
     "name": "stdout",
     "output_type": "stream",
     "text": [
      "4.0\n"
     ]
    }
   ],
   "source": [
    "min_sup = 0.5\n",
    "min_support_count = min_sup*len(data)\n",
    "print(min_support_count)"
   ]
  },
  {
   "cell_type": "code",
   "execution_count": 184,
   "id": "078d7790",
   "metadata": {},
   "outputs": [
    {
     "name": "stdout",
     "output_type": "stream",
     "text": [
      "C1\n",
      "['0aAemGyX19f6efHUcYm9y47wQWw1']: 1\n",
      "['1g39t9bx6WDfuG9Zyex0']: 6\n",
      "['5GCXdvtVxaWl5eyE1jGc']: 7\n",
      "['AYaWfXtAG52Lz3DQrsc9']: 5\n",
      "['K6scEyy0hwQh0FrhcWFE']: 4\n",
      "['RwTSbfmWRhiK0j4Ppfyb']: 5\n",
      "['VEMo6WVhgKEt5dXMMeRi']: 1\n",
      "['clMAmP1ZIwSQoMf0bxai']: 1\n",
      "L1:\n",
      "['1g39t9bx6WDfuG9Zyex0']: 6\n",
      "['5GCXdvtVxaWl5eyE1jGc']: 7\n",
      "['AYaWfXtAG52Lz3DQrsc9']: 5\n",
      "['K6scEyy0hwQh0FrhcWFE']: 4\n",
      "['RwTSbfmWRhiK0j4Ppfyb']: 5\n"
     ]
    }
   ],
   "source": [
    "# 1-itemset\n",
    "from collections import Counter\n",
    "c = Counter()\n",
    "for i in item:\n",
    "    for d in data:\n",
    "        if(i in d[1]):\n",
    "            c[i]+=1\n",
    "print(\"C1\")\n",
    "for i in c:\n",
    "    print(str([i])+\": \"+str(c[i]))\n",
    "# Các tập phổ biến 1 phần tử (tập các ứng viên thỏa mãn min_support_count)\n",
    "l = Counter()\n",
    "for i in c:\n",
    "    if(c[i] >= min_support_count):\n",
    "        l[frozenset([i])]+=c[i]\n",
    "print(\"L1:\")\n",
    "for i in l:\n",
    "    print(str(list(i))+\": \"+str(l[i]))"
   ]
  },
  {
   "cell_type": "code",
   "execution_count": 185,
   "id": "eee2c2b9",
   "metadata": {},
   "outputs": [
    {
     "name": "stdout",
     "output_type": "stream",
     "text": [
      "C2:\n",
      "['5GCXdvtVxaWl5eyE1jGc', 'K6scEyy0hwQh0FrhcWFE']: 4\n",
      "['K6scEyy0hwQh0FrhcWFE', '1g39t9bx6WDfuG9Zyex0']: 3\n",
      "['K6scEyy0hwQh0FrhcWFE', 'AYaWfXtAG52Lz3DQrsc9']: 2\n",
      "['RwTSbfmWRhiK0j4Ppfyb', 'K6scEyy0hwQh0FrhcWFE']: 3\n",
      "['RwTSbfmWRhiK0j4Ppfyb', 'AYaWfXtAG52Lz3DQrsc9']: 3\n",
      "['5GCXdvtVxaWl5eyE1jGc', 'AYaWfXtAG52Lz3DQrsc9']: 4\n",
      "['5GCXdvtVxaWl5eyE1jGc', '1g39t9bx6WDfuG9Zyex0']: 5\n",
      "['RwTSbfmWRhiK0j4Ppfyb', '1g39t9bx6WDfuG9Zyex0']: 4\n",
      "['5GCXdvtVxaWl5eyE1jGc', 'RwTSbfmWRhiK0j4Ppfyb']: 5\n",
      "['AYaWfXtAG52Lz3DQrsc9', '1g39t9bx6WDfuG9Zyex0']: 3\n",
      "L2:\n",
      "['5GCXdvtVxaWl5eyE1jGc', 'K6scEyy0hwQh0FrhcWFE']: 4\n",
      "['5GCXdvtVxaWl5eyE1jGc', 'AYaWfXtAG52Lz3DQrsc9']: 4\n",
      "['5GCXdvtVxaWl5eyE1jGc', '1g39t9bx6WDfuG9Zyex0']: 5\n",
      "['RwTSbfmWRhiK0j4Ppfyb', '1g39t9bx6WDfuG9Zyex0']: 4\n",
      "['5GCXdvtVxaWl5eyE1jGc', 'RwTSbfmWRhiK0j4Ppfyb']: 5\n",
      "C3:\n",
      "['5GCXdvtVxaWl5eyE1jGc', '1g39t9bx6WDfuG9Zyex0', 'K6scEyy0hwQh0FrhcWFE']: 3\n",
      "['5GCXdvtVxaWl5eyE1jGc', 'AYaWfXtAG52Lz3DQrsc9', 'K6scEyy0hwQh0FrhcWFE']: 2\n",
      "['5GCXdvtVxaWl5eyE1jGc', 'RwTSbfmWRhiK0j4Ppfyb', 'K6scEyy0hwQh0FrhcWFE']: 3\n",
      "['5GCXdvtVxaWl5eyE1jGc', 'RwTSbfmWRhiK0j4Ppfyb', 'AYaWfXtAG52Lz3DQrsc9']: 3\n",
      "['5GCXdvtVxaWl5eyE1jGc', 'RwTSbfmWRhiK0j4Ppfyb', '1g39t9bx6WDfuG9Zyex0']: 4\n",
      "['5GCXdvtVxaWl5eyE1jGc', '1g39t9bx6WDfuG9Zyex0', 'AYaWfXtAG52Lz3DQrsc9']: 2\n",
      "L3:\n",
      "['5GCXdvtVxaWl5eyE1jGc', 'RwTSbfmWRhiK0j4Ppfyb', '1g39t9bx6WDfuG9Zyex0']: 4\n",
      "C4:\n",
      "L4:\n",
      "Result: \n",
      "L3:\n",
      "['5GCXdvtVxaWl5eyE1jGc', 'RwTSbfmWRhiK0j4Ppfyb', '1g39t9bx6WDfuG9Zyex0']: 4\n"
     ]
    }
   ],
   "source": [
    "# k-itemset\n",
    "frequent_itemset = l\n",
    "pos = 1\n",
    "for count in range (2,1000):\n",
    "    item_set = set()\n",
    "    temp = list(l)\n",
    "    for i in range(0,len(temp)):\n",
    "        for j in range(i+1,len(temp)):\n",
    "            t = temp[i].union(temp[j])\n",
    "            if(len(t) == count):\n",
    "                item_set.add(temp[i].union(temp[j]))\n",
    "    item_set = list(item_set)\n",
    "    c = Counter()\n",
    "    for i in item_set:\n",
    "        c[i] = 0\n",
    "        for q in data:\n",
    "            temp = set(q[1])\n",
    "            if(i.issubset(temp)):\n",
    "                c[i]+=1\n",
    "    print(\"C\"+str(count)+\":\")\n",
    "    for i in c:\n",
    "        print(str(list(i))+\": \"+str(c[i]))\n",
    "    l = Counter()\n",
    "    for i in c:\n",
    "        if(c[i] >= min_support_count):\n",
    "            l[i]+=c[i]\n",
    "    print(\"L\"+str(count)+\":\")\n",
    "    for i in l:\n",
    "        print(str(list(i))+\": \"+str(l[i]))\n",
    "    if(len(l) == 0):\n",
    "        break\n",
    "    frequent_itemset = l\n",
    "    pos = count\n",
    "print(\"Result: \")\n",
    "print(\"L\"+str(pos)+\":\")\n",
    "for i in frequent_itemset:\n",
    "    print(str(list(i))+\": \"+str(frequent_itemset[i]))"
   ]
  },
  {
   "cell_type": "code",
   "execution_count": 232,
   "id": "510f82e9",
   "metadata": {},
   "outputs": [
    {
     "name": "stdout",
     "output_type": "stream",
     "text": [
      "association rule:\n",
      "['5GCXdvtVxaWl5eyE1jGc', 'RwTSbfmWRhiK0j4Ppfyb'] -> ['1g39t9bx6WDfuG9Zyex0'] = 0.8\n",
      "['5GCXdvtVxaWl5eyE1jGc', '1g39t9bx6WDfuG9Zyex0'] -> ['RwTSbfmWRhiK0j4Ppfyb'] = 0.8\n",
      "['RwTSbfmWRhiK0j4Ppfyb'] -> ['5GCXdvtVxaWl5eyE1jGc', '1g39t9bx6WDfuG9Zyex0'] = 0.8\n",
      "['1g39t9bx6WDfuG9Zyex0', 'RwTSbfmWRhiK0j4Ppfyb'] -> ['5GCXdvtVxaWl5eyE1jGc'] = 1.0\n"
     ]
    }
   ],
   "source": [
    "# find association rule\n",
    "list_association = []\n",
    "min_conf = 0.7\n",
    "for l in frequent_itemset:\n",
    "    c = [frozenset(q) for q in combinations(l,len(l)-1)]\n",
    "    curr = 1\n",
    "    print(\"association rule:\")\n",
    "    for a in c:\n",
    "        b = l-a\n",
    "        ab = l\n",
    "        sab = 0\n",
    "        sa = 0\n",
    "        sb = 0\n",
    "        for q in data:\n",
    "            temp = set(q[1])\n",
    "            if(a.issubset(temp)):\n",
    "                sa+=1\n",
    "            if(b.issubset(temp)):\n",
    "                sb+=1\n",
    "            if(ab.issubset(temp)):\n",
    "                sab+=1\n",
    "        temp = sab/sa\n",
    "        if(temp > min_conf):\n",
    "            association = [list(a), list(b)]\n",
    "            list_association.append(association)\n",
    "            print(str(list(a))+\" -> \"+str(list(b))+\" = \"+str(sab/sa))\n",
    "        curr += 1\n",
    "        temp = sab/sb\n",
    "        if(temp > min_conf):\n",
    "            association = [list(b), list(a)]\n",
    "            list_association.append(association)\n",
    "            print(str(list(b))+\" -> \"+str(list(a))+\" = \"+str(sab/sb))\n",
    "        curr += 1"
   ]
  },
  {
   "cell_type": "code",
   "execution_count": 233,
   "id": "c33a5560",
   "metadata": {},
   "outputs": [
    {
     "name": "stdout",
     "output_type": "stream",
     "text": [
      "['5GCXdvtVxaWl5eyE1jGc', '1g39t9bx6WDfuG9Zyex0']\n"
     ]
    }
   ],
   "source": [
    "user_cart = []\n",
    "user_cart_ref = db.collection('cart').document('gkWEpitS3LUcfrYjb2YpzFntL0A2') \n",
    "query = user_cart_ref.get()\n",
    "if query.exists:\n",
    "    document_data = query.to_dict()\n",
    "    user_cart = list(document_data.keys())\n",
    "else:\n",
    "    print(f\"Document with ID '{document_id}' does not exist.\")\n",
    "    \n",
    "print(user_cart)"
   ]
  },
  {
   "cell_type": "code",
   "execution_count": 248,
   "id": "bd231d05",
   "metadata": {},
   "outputs": [
    {
     "name": "stdout",
     "output_type": "stream",
     "text": [
      "Recommend product for user:\n",
      "[['RwTSbfmWRhiK0j4Ppfyb']]\n"
     ]
    }
   ],
   "source": [
    "list_recommend =[]\n",
    "for i in list_association:\n",
    "    all_included = all(elem in i[0] for elem in user_cart)\n",
    "    if all_included:\n",
    "        list_recommend.append(i[1])\n",
    "print('Recommend product for user:')\n",
    "print(list_recommend)              "
   ]
  },
  {
   "cell_type": "code",
   "execution_count": null,
   "id": "5507a71d",
   "metadata": {},
   "outputs": [],
   "source": []
  },
  {
   "cell_type": "code",
   "execution_count": null,
   "id": "d6229d82",
   "metadata": {},
   "outputs": [],
   "source": []
  }
 ],
 "metadata": {
  "kernelspec": {
   "display_name": "Python 3 (ipykernel)",
   "language": "python",
   "name": "python3"
  },
  "language_info": {
   "codemirror_mode": {
    "name": "ipython",
    "version": 3
   },
   "file_extension": ".py",
   "mimetype": "text/x-python",
   "name": "python",
   "nbconvert_exporter": "python",
   "pygments_lexer": "ipython3",
   "version": "3.11.0"
  }
 },
 "nbformat": 4,
 "nbformat_minor": 5
}
